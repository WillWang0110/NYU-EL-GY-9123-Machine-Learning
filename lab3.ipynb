{
 "cells": [
  {
   "cell_type": "code",
   "execution_count": 1,
   "metadata": {},
   "outputs": [],
   "source": [
    "import numpy as np\n",
    "import matplotlib\n",
    "import matplotlib.pyplot as plt\n",
    "%matplotlib inline"
   ]
  },
  {
   "cell_type": "code",
   "execution_count": 2,
   "metadata": {},
   "outputs": [],
   "source": [
    "import scipy.io\n",
    "mat_dict = scipy.io.loadmat('StevensonV2.mat')"
   ]
  },
  {
   "cell_type": "code",
   "execution_count": 3,
   "metadata": {},
   "outputs": [
    {
     "data": {
      "text/plain": [
       "dict_keys(['__header__', '__version__', '__globals__', 'Publication', 'timeBase', 'spikes', 'time', 'handVel', 'handPos', 'target', 'startBins', 'targets', 'startBinned'])"
      ]
     },
     "execution_count": 3,
     "metadata": {},
     "output_type": "execute_result"
    }
   ],
   "source": [
    "mat_dict.keys()"
   ]
  },
  {
   "cell_type": "code",
   "execution_count": 4,
   "metadata": {},
   "outputs": [],
   "source": [
    "X0 = mat_dict['spikes'].T\n",
    "y0 = mat_dict['handPos'][0,:]"
   ]
  },
  {
   "cell_type": "code",
   "execution_count": 5,
   "metadata": {},
   "outputs": [
    {
     "name": "stdout",
     "output_type": "stream",
     "text": [
      "Number of time bins = 15536\n",
      "Number of neurons = 196\n"
     ]
    }
   ],
   "source": [
    "nt=X0.shape[0]\n",
    "nneuron=X0.shape[1]\n",
    "print('Number of time bins = {}'.format(nt))\n",
    "print('Number of neurons = {}'.format(nneuron))"
   ]
  },
  {
   "cell_type": "code",
   "execution_count": 6,
   "metadata": {},
   "outputs": [
    {
     "data": {
      "text/plain": [
       "(15536,)"
      ]
     },
     "execution_count": 6,
     "metadata": {},
     "output_type": "execute_result"
    }
   ],
   "source": [
    "t0=np.array(mat_dict['time'])\n",
    "t=t0[0]\n",
    "t.shape"
   ]
  },
  {
   "cell_type": "code",
   "execution_count": 7,
   "metadata": {},
   "outputs": [
    {
     "data": {
      "text/plain": [
       "0.049999999999954525"
      ]
     },
     "execution_count": 7,
     "metadata": {},
     "output_type": "execute_result"
    }
   ],
   "source": [
    "for i in range(1,15536):\n",
    "    tsamp0=t[i]-t[i-1]\n",
    "tsamp=np.mean(tsamp0)\n",
    "tsamp"
   ]
  },
  {
   "cell_type": "code",
   "execution_count": 8,
   "metadata": {},
   "outputs": [
    {
     "data": {
      "text/plain": [
       "776.75"
      ]
     },
     "execution_count": 8,
     "metadata": {},
     "output_type": "execute_result"
    }
   ],
   "source": [
    "ttol=np.max(t)-np.min(t)\n",
    "ttol"
   ]
  },
  {
   "cell_type": "code",
   "execution_count": 9,
   "metadata": {},
   "outputs": [],
   "source": [
    "from sklearn import linear_model \n",
    "n=nt//2\n",
    "X_tr=X0[:n,:]\n",
    "y_tr=y0[:n]\n",
    "X_ts=X0[n:,:]\n",
    "y_ts=y0[n:]"
   ]
  },
  {
   "cell_type": "code",
   "execution_count": 10,
   "metadata": {},
   "outputs": [
    {
     "data": {
      "text/plain": [
       "LinearRegression(copy_X=True, fit_intercept=True, n_jobs=1, normalize=False)"
      ]
     },
     "execution_count": 10,
     "metadata": {},
     "output_type": "execute_result"
    }
   ],
   "source": [
    "import sklearn.linear_model\n",
    "regr = linear_model.LinearRegression()\n",
    "regr.fit(X_tr,y_tr)"
   ]
  },
  {
   "cell_type": "code",
   "execution_count": 11,
   "metadata": {},
   "outputs": [
    {
     "name": "stdout",
     "output_type": "stream",
     "text": [
      "RSS in training data = 0.457975\n"
     ]
    }
   ],
   "source": [
    "y_tr_pred = regr.predict(X_tr)\n",
    "RSS_tr = np.mean((y_tr_pred-y_tr)**2)/(np.std(y_tr)**2)\n",
    "print(\"RSS in training data = {0:f}\".format(RSS_tr))"
   ]
  },
  {
   "cell_type": "code",
   "execution_count": 12,
   "metadata": {},
   "outputs": [
    {
     "name": "stdout",
     "output_type": "stream",
     "text": [
      "RSS in testing data = 169375944846410874880.000000\n"
     ]
    }
   ],
   "source": [
    "y_ts_pred= regr.predict(X_ts)\n",
    "RSS_ts = np.mean(((y_ts_pred-y_ts)**2)/(np.std(y_ts)**2))\n",
    "print(\"RSS in testing data = {0:f}\".format(RSS_ts))"
   ]
  },
  {
   "cell_type": "code",
   "execution_count": 18,
   "metadata": {},
   "outputs": [
    {
     "name": "stderr",
     "output_type": "stream",
     "text": [
      "/anaconda3/lib/python3.6/site-packages/ipykernel_launcher.py:8: RuntimeWarning: invalid value encountered in double_scalars\n",
      "  \n"
     ]
    },
    {
     "data": {
      "text/plain": [
       "<Container object of 3 artists>"
      ]
     },
     "execution_count": 18,
     "metadata": {},
     "output_type": "execute_result"
    },
    {
     "data": {
      "image/png": "[encoded data removed]",
      "text/plain": [
       "<matplotlib.figure.Figure at 0x1a1c2fefd0>"
      ]
     },
     "metadata": {},
     "output_type": "display_data"
    }
   ],
   "source": [
    "ym=np.mean(y0)\n",
    "syy=np.mean((y0-ym)**2)\n",
    "Rsq=np.empty(nneuron)\n",
    "for k in range(nneuron):\n",
    "    Xm=np.mean(X0[:,k])\n",
    "    sxy=np.mean((X0[:,k]-Xm)*(y0-ym))\n",
    "    sxx=np.mean((X0[:,k]-Xm)**2)\n",
    "    Rsq[k]=sxy**2/(sxx*syy)\n",
    "    #natt=np.array(range(1,nneuron+1))\n",
    "plt.stem(Rsq,'-.')"
   ]
  },
  {
   "cell_type": "code",
   "execution_count": 24,
   "metadata": {},
   "outputs": [
    {
     "name": "stdout",
     "output_type": "stream",
     "text": [
      "The neurons with the ten highest R^2 values=\n",
      "num=164, value=0.121277618685\n",
      "num=188, value=0.0884243959258\n",
      "num=58, value=0.0798267929212\n",
      "num=126, value=0.0773731593927\n",
      "num=67, value=0.0628948377756\n",
      "num=190, value=0.0392468939749\n",
      "num=134, value=0.0257381828934\n",
      "num=161, value=0.023263228804\n",
      "num=18, value=0.0223241369116\n",
      "num=114, value=0.0199858675092\n"
     ]
    }
   ],
   "source": [
    "d=50\n",
    "Isel=np.argsort(-Rsq)[:d]\n",
    "top=np.argsort(-Rsq)[:10]\n",
    "print(\"The neurons with the ten highest R^2 values=\")\n",
    "for i in top:\n",
    "    value=Rsq[i]\n",
    "    print(\"num=%d, value=%s\"%(i,Rsq[i]))"
   ]
  },
  {
   "cell_type": "code",
   "execution_count": 26,
   "metadata": {},
   "outputs": [
    {
     "name": "stdout",
     "output_type": "stream",
     "text": [
      "Test RSS per sample = 0.000969, Normalized test RSS = 0.498469\n"
     ]
    }
   ],
   "source": [
    "x1=X0[:,Isel]\n",
    "ntr=nt//2\n",
    "xtr = x1[:ntr]\n",
    "ytr = y0[:ntr]\n",
    "xts = x1[ntr:]\n",
    "yts = y0[ntr:]\n",
    "regr = linear_model.LinearRegression()\n",
    "regr.fit(xtr,ytr)\n",
    "yts_pred = regr.predict(xts)\n",
    "RSS_samp = np.mean((yts_pred-yts)**2)\n",
    "RSSts = np.mean((yts_pred-yts)**2)/(np.std(yts)**2)\n",
    "print('Test RSS per sample = %f, Normalized test RSS = %f' %(RSS_samp, RSSts))\n"
   ]
  },
  {
   "cell_type": "code",
   "execution_count": 28,
   "metadata": {},
   "outputs": [
    {
     "data": {
      "image/png": "[encoded data removed]",
      "text/plain": [
       "<matplotlib.figure.Figure at 0x1a1c5fdba8>"
      ]
     },
     "metadata": {},
     "output_type": "display_data"
    }
   ],
   "source": [
    "plt.scatter(yts,yts_pred)\n",
    "plt.plot([-0.15,0.1],[-0.15,0.1],'r')\n",
    "plt.xlabel('Actual')\n",
    "plt.ylabel('Predicted')\n",
    "plt.grid()"
   ]
  },
  {
   "cell_type": "code",
   "execution_count": 37,
   "metadata": {},
   "outputs": [],
   "source": [
    "# Create a k-fold object\n",
    "nfold = 10\n",
    "kf = sklearn.model_selection.KFold(n_splits=nfold,shuffle=True)\n",
    "\n",
    "# Model orders to be tested\n",
    "dtest = np.arange(10,200,10)\n",
    "nd = len(dtest)\n",
    "RSSts = np.zeros((nd,nfold))\n",
    "for nsplit, Ind in enumerate(kf.split(X0)):\n",
    "    Itr, Its = Ind\n",
    "    xtr = X0[Itr]\n",
    "    ytr = y0[Itr]\n",
    "    xts = X0[Its]\n",
    "    yts = y0[Its]\n",
    "    for it, d in enumerate (dtest):\n",
    "        Isel = np.argsort(-Rsq)[:d]\n",
    "        xtr1 = xtr[:,Isel]\n",
    "        xts1 = xts[:,Isel]\n",
    "        regr = linear_model.LinearRegression()\n",
    "        regr.fit(xtr1,ytr)\n",
    "        yts_pred = regr.predict(xts1)\n",
    "        RSSts[it,nsplit] = np.mean((yts_pred-yts)**2)"
   ]
  },
  {
   "cell_type": "code",
   "execution_count": 38,
   "metadata": {},
   "outputs": [
    {
     "data": {
      "image/png": "[encoded data removed]",
      "text/plain": [
       "<matplotlib.figure.Figure at 0x1a19663780>"
      ]
     },
     "metadata": {},
     "output_type": "display_data"
    }
   ],
   "source": [
    "RSS_mean = np.mean(RSSts,axis=1)\n",
    "RSS_std = np.std(RSSts,axis=1) / np.sqrt(nfold-1)\n",
    "plt.errorbar(dtest, RSS_mean, yerr=RSS_std, fmt='o-')\n",
    "plt.xlabel('Model order')\n",
    "plt.ylabel('Test RSS')\n",
    "plt.grid()"
   ]
  },
  {
   "cell_type": "code",
   "execution_count": 40,
   "metadata": {},
   "outputs": [
    {
     "name": "stdout",
     "output_type": "stream",
     "text": [
      "The estimated model order is %d, the mean test RSS per sample at the optimal d\n"
     ]
    },
    {
     "data": {
      "image/png": "[encoded data removed]",
      "text/plain": [
       "<matplotlib.figure.Figure at 0x1a1968fcc0>"
      ]
     },
     "metadata": {},
     "output_type": "display_data"
    }
   ],
   "source": [
    "d0 = np.argmin(RSS_mean)\n",
    "RSS_tgt = RSS_mean[d0] + RSS_std[d0]\n",
    "I = np.where(RSS_mean <= RSS_tgt)[0]\n",
    "i_optimal = I[0]\n",
    "d_optimal = dtest[i_optimal]\n",
    "plt.grid()\n",
    "plt.errorbar(dtest, RSS_mean, yerr=RSS_std, fmt='o-')\n",
    "plt.plot([dtest[0],dtest[d0]],[RSS_tgt,RSS_tgt], '--')\n",
    "plt.plot([d_optimal,d_optimal],[0.0008,0.0009],'g--')\n",
    "plt.xlabel('Model-Order')\n",
    "plt.ylabel('RSS')\n",
    "print( 'The estimated model order is %d, the mean test RSS per sample at the optimal d')"
   ]
  },
  {
   "cell_type": "code",
   "execution_count": null,
   "metadata": {},
   "outputs": [],
   "source": []
  }
 ],
 "metadata": {
  "kernelspec": {
   "display_name": "Python 3",
   "language": "python",
   "name": "python3"
  },
  "language_info": {
   "codemirror_mode": {
    "name": "ipython",
    "version": 3
   },
   "file_extension": ".py",
   "mimetype": "text/x-python",
   "name": "python",
   "nbconvert_exporter": "python",
   "pygments_lexer": "ipython3",
   "version": "3.6.3"
  }
 },
 "nbformat": 4,
 "nbformat_minor": 2
}
