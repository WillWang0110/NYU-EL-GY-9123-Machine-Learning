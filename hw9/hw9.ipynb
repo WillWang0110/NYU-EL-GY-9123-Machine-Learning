{
 "cells": [
  {
   "cell_type": "code",
   "execution_count": 45,
   "metadata": {},
   "outputs": [],
   "source": [
    "import numpy as np\n",
    "from numpy import linalg as LA \n",
    "import matplotlib.pyplot as plt\n",
    "from sklearn.decomposition import PCA, FastICA,KernelPCA,TruncatedSVD"
   ]
  },
  {
   "cell_type": "code",
   "execution_count": 46,
   "metadata": {},
   "outputs": [
    {
     "data": {
      "text/plain": [
       "array([ 1.5,  2.5,  3.5])"
      ]
     },
     "execution_count": 46,
     "metadata": {},
     "output_type": "execute_result"
    }
   ],
   "source": [
    "XMat=np.array([(3,2,1),(2,4,5),(1,2,3),(0,2,5)])\n",
    "average= np.mean(XMat,axis=0) #Find the sample mean.\n",
    "average"
   ]
  },
  {
   "cell_type": "code",
   "execution_count": 47,
   "metadata": {},
   "outputs": [
    {
     "data": {
      "text/plain": [
       "array([[ 1.66666667,  0.33333333, -1.66666667],\n",
       "       [ 0.33333333,  1.        ,  1.        ],\n",
       "       [-1.66666667,  1.        ,  3.66666667]])"
      ]
     },
     "execution_count": 47,
     "metadata": {},
     "output_type": "execute_result"
    }
   ],
   "source": [
    "m, n = np.shape(XMat)\n",
    "data_adjust = []\n",
    "avgs = np.tile(average, (m, 1))\n",
    "data_adjust = XMat - avgs\n",
    "covX = np.cov(data_adjust.T)   #Find the sample covariance matrix Q.\n",
    "covX"
   ]
  },
  {
   "cell_type": "code",
   "execution_count": 48,
   "metadata": {},
   "outputs": [
    {
     "data": {
      "text/plain": [
       "(array([ 4.74888619,  1.56450706,  0.01994008]),\n",
       " array([[-0.45056922, -0.66677184, -0.59363515],\n",
       "        [ 0.19247228, -0.72187235,  0.66472154],\n",
       "        [ 0.87174641, -0.18524476, -0.45358856]]))"
      ]
     },
     "execution_count": 48,
     "metadata": {},
     "output_type": "execute_result"
    }
   ],
   "source": [
    "#Find the eigenvalues and eigenvectors.\n",
    "featValue, featVec=  np.linalg.eig(covX)  \n",
    "featValue, featVec"
   ]
  },
  {
   "cell_type": "code",
   "execution_count": 49,
   "metadata": {},
   "outputs": [
    {
     "data": {
      "text/plain": [
       "(matrix([[-2.95145599, -0.17610969],\n",
       "         [ 1.37104342, -1.69406159],\n",
       "         [-0.30682473,  0.78694448],\n",
       "         [ 1.8872373 ,  1.0832268 ]]),\n",
       " matrix([[ 2.94726021,  2.05905526,  0.95970224],\n",
       "         [ 2.0118026 ,  3.98678407,  5.0090182 ],\n",
       "         [ 1.11353336,  1.87287129,  3.0867493 ],\n",
       "         [-0.07259617,  2.08128939,  4.94453025]]))"
      ]
     },
     "execution_count": 49,
     "metadata": {},
     "output_type": "execute_result"
    }
   ],
   "source": [
    "#Reconstruct the original samples from the PCA coefficients.\n",
    "#Approximate the samples using principle components corresponding to the two largest eigenvalues.\n",
    "index = np.argsort(-featValue)\n",
    "finalData = []\n",
    "selectVec = np.matrix(featVec.T[index[:2]])\n",
    "finalData = data_adjust * selectVec.T \n",
    "reconData = (finalData * selectVec) + average  \n",
    "finalData,reconData"
   ]
  },
  {
   "cell_type": "code",
   "execution_count": 50,
   "metadata": {},
   "outputs": [
    {
     "data": {
      "text/plain": [
       "array([ 0.89793936,  0.99755596,  1.        ])"
      ]
     },
     "execution_count": 50,
     "metadata": {},
     "output_type": "execute_result"
    }
   ],
   "source": [
    "U,S,V = np.linalg.svd(XMat, full_matrices=False)\n",
    "lam = S**2\n",
    "PoV = np.cumsum(lam)/np.sum(lam)\n",
    "PoV"
   ]
  },
  {
   "cell_type": "code",
   "execution_count": null,
   "metadata": {},
   "outputs": [],
   "source": []
  }
 ],
 "metadata": {
  "kernelspec": {
   "display_name": "Python 3",
   "language": "python",
   "name": "python3"
  },
  "language_info": {
   "codemirror_mode": {
    "name": "ipython",
    "version": 3
   },
   "file_extension": ".py",
   "mimetype": "text/x-python",
   "name": "python",
   "nbconvert_exporter": "python",
   "pygments_lexer": "ipython3",
   "version": "3.6.3"
  }
 },
 "nbformat": 4,
 "nbformat_minor": 2
}
