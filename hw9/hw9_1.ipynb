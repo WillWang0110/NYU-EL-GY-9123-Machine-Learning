{
 "cells": [
  {
   "cell_type": "code",
   "execution_count": 24,
   "metadata": {},
   "outputs": [],
   "source": [
    "import numpy as np\n",
    "from numpy import linalg as LA \n",
    "import matplotlib.pyplot as plt\n",
    "%matplotlib inline"
   ]
  },
  {
   "cell_type": "markdown",
   "metadata": {},
   "source": [
    "(a) Find the sample mean"
   ]
  },
  {
   "cell_type": "code",
   "execution_count": 27,
   "metadata": {},
   "outputs": [
    {
     "data": {
      "text/plain": [
       "array([ 1.5,  2.5,  3.5])"
      ]
     },
     "execution_count": 27,
     "metadata": {},
     "output_type": "execute_result"
    }
   ],
   "source": [
    "X=np.array([(3,2,1),(2,4,5),(1,2,3),(0,2,5)])\n",
    "Xmean = np.mean(X,0)\n",
    "Xmean"
   ]
  },
  {
   "cell_type": "markdown",
   "metadata": {},
   "source": [
    "(b) Find the sample covariance matrix Q."
   ]
  },
  {
   "cell_type": "code",
   "execution_count": 28,
   "metadata": {},
   "outputs": [
    {
     "data": {
      "text/plain": [
       "array([[ 2.1875, -0.9375,  0.1875, -1.4375],\n",
       "       [-0.9375,  1.1875, -0.4375,  0.1875],\n",
       "       [ 0.1875, -0.4375,  0.1875,  0.0625],\n",
       "       [-1.4375,  0.1875,  0.0625,  1.1875]])"
      ]
     },
     "execution_count": 28,
     "metadata": {},
     "output_type": "execute_result"
    }
   ],
   "source": [
    "Xs = X - Xmean[None,:]\n",
    "nsamp=4\n",
    "Q=1/nsam*Xs.dot(Xs.T)\n",
    "Q"
   ]
  },
  {
   "cell_type": "markdown",
   "metadata": {},
   "source": [
    "Find the eigenvalues and eigenvectors."
   ]
  },
  {
   "cell_type": "code",
   "execution_count": 29,
   "metadata": {},
   "outputs": [
    {
     "data": {
      "text/plain": [
       "array([[ 0.78195148, -0.08128939,  0.5       ,  0.36324086],\n",
       "       [-0.36324086, -0.78195148,  0.5       , -0.08128939],\n",
       "       [ 0.08128939,  0.36324086,  0.5       , -0.78195148],\n",
       "       [-0.5       ,  0.5       ,  0.5       ,  0.5       ]])"
      ]
     },
     "execution_count": 29,
     "metadata": {},
     "output_type": "execute_result"
    }
   ],
   "source": [
    "w,v=LA.eig(Q)\n",
    "w;v"
   ]
  },
  {
   "cell_type": "markdown",
   "metadata": {},
   "source": [
    "(d) Find the PCA coefficient"
   ]
  },
  {
   "cell_type": "code",
   "execution_count": 36,
   "metadata": {},
   "outputs": [
    {
     "data": {
      "text/plain": [
       "Text(0,0.5,'PoV')"
      ]
     },
     "execution_count": 36,
     "metadata": {},
     "output_type": "execute_result"
    },
    {
     "data": {
      "image/png": "[encoded data removed]",
      "text/plain": [
       "<matplotlib.figure.Figure at 0x1160852b0>"
      ]
     },
     "metadata": {},
     "output_type": "display_data"
    }
   ],
   "source": [
    "U,S,V = np.linalg.svd(Xs, full_matrices=False)\n",
    "lam = S**2\n",
    "PoV = np.cumsum(lam)/np.sum(lam)\n",
    "\n",
    "plt.plot(PoV)\n",
    "plt.grid()\n",
    "plt.axis([0,nsamp,0, 1.1])\n",
    "plt.xlabel('Number of PCs', fontsize=16)\n",
    "plt.ylabel('PoV', fontsize=16)"
   ]
  },
  {
   "cell_type": "markdown",
   "metadata": {},
   "source": [
    "(e) Reconstruct the original samples from the PCA coefficients."
   ]
  },
  {
   "cell_type": "code",
   "execution_count": 40,
   "metadata": {},
   "outputs": [
    {
     "data": {
      "text/plain": [
       "(4, 3)"
      ]
     },
     "execution_count": 40,
     "metadata": {},
     "output_type": "execute_result"
    }
   ],
   "source": [
    "nsvd = 3\n",
    "Xhat = (U[:,:nsvd]*S[None,:nsvd]).dot(V[:nsvd,:])\n",
    "Xhat = Xhat + Xmean[None,:]\n",
    "Xhat.shape"
   ]
  },
  {
   "cell_type": "code",
   "execution_count": 45,
   "metadata": {},
   "outputs": [
    {
     "ename": "SyntaxError",
     "evalue": "unexpected EOF while parsing (<ipython-input-45-acb815676ba3>, line 2)",
     "output_type": "error",
     "traceback": [
      "\u001b[0;36m  File \u001b[0;32m\"<ipython-input-45-acb815676ba3>\"\u001b[0;36m, line \u001b[0;32m2\u001b[0m\n\u001b[0;31m    Xhati=(U[None,:d]*S[None,:d].dot(V[:d,:]) + Xmean\u001b[0m\n\u001b[0m                                                     ^\u001b[0m\n\u001b[0;31mSyntaxError\u001b[0m\u001b[0;31m:\u001b[0m unexpected EOF while parsing\n"
     ]
    }
   ],
   "source": [
    "d=2\n",
    "Xhati=(U[None,:d]*S[None,:d].dot(V[:d,:]) + Xmean"
   ]
  },
  {
   "cell_type": "code",
   "execution_count": 49,
   "metadata": {},
   "outputs": [],
   "source": [
    "def pca(XMat, k):\n",
    "    average = np.mean(XMat) \n",
    "    m, n = np.shape(XMat)\n",
    "    data_adjust = []\n",
    "    avgs = np.tile(average, (m, 1))\n",
    "    data_adjust = XMat - avgs\n",
    "    covX = np.cov(data_adjust.T)   #计算协方差矩阵\n",
    "    featValue, featVec=  np.linalg.eig(covX)  #求解协方差矩阵的特征值和特征向量\n",
    "    index = np.argsort(-featValue) #按照featValue进行从大到小排序\n",
    "    finalData = []\n",
    "    if k > n:\n",
    "        print (\"k must lower than feature number\")\n",
    "        return\n",
    "    else:\n",
    "        #注意特征向量时列向量，而numpy的二维矩阵(数组)a[m][n]中，a[1]表示第1行值\n",
    "        selectVec = np.matrix(featVec.T[index[:k]]) #所以这里需要进行转置\n",
    "        finalData = data_adjust * selectVec.T \n",
    "        reconData = (finalData * selectVec) + average  \n",
    "    return finalData, reconData"
   ]
  },
  {
   "cell_type": "code",
   "execution_count": 50,
   "metadata": {},
   "outputs": [
    {
     "data": {
      "text/plain": [
       "(matrix([[-1.62914036,  0.30541739],\n",
       "         [ 2.69335905, -1.2125345 ],\n",
       "         [ 1.0154909 ,  1.26847156],\n",
       "         [ 3.20955293,  1.56475388]]),\n",
       " matrix([[ 3.03039679,  1.96596327,  1.02322577],\n",
       "         [ 2.09493917,  3.89369209,  5.07254173],\n",
       "         [ 1.19666994,  1.7797793 ,  3.15027283],\n",
       "         [ 0.01054041,  1.9881974 ,  5.00805378]]))"
      ]
     },
     "execution_count": 50,
     "metadata": {},
     "output_type": "execute_result"
    }
   ],
   "source": [
    "Xmat=np.array([(3,2,1),(2,4,5),(1,2,3),(0,2,5)])\n",
    "k=2\n",
    "pca(Xmat,k)"
   ]
  },
  {
   "cell_type": "code",
   "execution_count": null,
   "metadata": {},
   "outputs": [],
   "source": []
  }
 ],
 "metadata": {
  "kernelspec": {
   "display_name": "Python 3",
   "language": "python",
   "name": "python3"
  },
  "language_info": {
   "codemirror_mode": {
    "name": "ipython",
    "version": 3
   },
   "file_extension": ".py",
   "mimetype": "text/x-python",
   "name": "python",
   "nbconvert_exporter": "python",
   "pygments_lexer": "ipython3",
   "version": "3.6.3"
  }
 },
 "nbformat": 4,
 "nbformat_minor": 2
}
